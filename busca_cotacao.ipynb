{
 "cells": [
  {
   "cell_type": "markdown",
   "metadata": {},
   "source": [
    "# Automação Web e Busca de Informações com Python\n",
    "\n",
    "#### Desafio: \n",
    "\n",
    "Trabalhamos em uma importadora e o preço dos nossos produtos é vinculado a cotação de:\n",
    "- Dólar\n",
    "- Euro\n",
    "- Ouro\n",
    "\n",
    "Precisamos pegar na internet, de forma automática, a cotação desses 3 itens e saber quanto devemos cobrar pelos nossos produtos, considerando uma margem de contribuição que temos na nossa base de dados.\n",
    "\n",
    "Base de Dados: https://drive.google.com/drive/folders/1KmAdo593nD8J9QBaZxPOG1yxHZua4Rtv?usp=sharing\n",
    "\n",
    "Para isso, vamos criar uma automação web:\n",
    "\n",
    "- Usaremos o selenium"
   ]
  },
  {
   "cell_type": "code",
   "execution_count": null,
   "metadata": {},
   "outputs": [],
   "source": [
    "!pip install selenium"
   ]
  },
  {
   "cell_type": "code",
   "execution_count": 1,
   "metadata": {},
   "outputs": [
    {
     "name": "stdout",
     "output_type": "stream",
     "text": [
      "5.2\n",
      "5.069402\n",
      "285.05\n"
     ]
    }
   ],
   "source": [
    "from selenium import webdriver\n",
    "from selenium.webdriver.common.keys import Keys\n",
    "from selenium.webdriver.common.by import By\n",
    "\n",
    "# Abri Navegador e entrar no Google\n",
    "navegador = webdriver.Chrome()\n",
    "td_cotas = ['Cotação Dolar', 'Cotação Euro']\n",
    "# Cotação Dolar\n",
    "navegador.get('https://www.google.com/')\n",
    "pesquisa = navegador.find_element('xpath', '/html/body/div[1]/div[3]/form/div[1]/div[1]/div[1]/div/div[2]/input')\n",
    "pesquisa.send_keys('Cotação Dolar')\n",
    "pesquisa.send_keys(Keys.ENTER)\n",
    "cota_dolar = navegador.find_element('xpath', '//*[@id=\"knowledge-currency__updatable-data-column\"]/div[1]/div[2]/span[1]')\n",
    "cota_dolar = cota_dolar.get_attribute('data-value') # Ler atributo de valor de cotação\n",
    "print(cota_dolar)\n",
    "# Cotação Euro\n",
    "navegador.get('https://www.google.com/')\n",
    "pesquisa = navegador.find_element('xpath', '/html/body/div[1]/div[3]/form/div[1]/div[1]/div[1]/div/div[2]/input')\n",
    "pesquisa.send_keys('Cotação Euro')\n",
    "pesquisa.send_keys(Keys.ENTER)\n",
    "cota_euro = navegador.find_element('xpath', '//*[@id=\"knowledge-currency__updatable-data-column\"]/div[1]/div[2]/span[1]')\n",
    "cota_euro = cota_euro.get_attribute('data-value') # Ler atributo de valor de cotação\n",
    "print(cota_euro)\n",
    "# Cotação Ouro\n",
    "navegador.get('https://www.melhorcambio.com/ouro-hoje')\n",
    "cota_ouro = navegador.find_element('xpath', '//*[@id=\"comercial\"]')\n",
    "cota_ouro = cota_ouro.get_attribute('value') # Ler atributo de valor de cotação\n",
    "cota_ouro = cota_ouro.replace(',', '.') # Substitui a virgula por ponto\n",
    "print(cota_ouro)\n",
    "\n",
    "navegador.quit()"
   ]
  },
  {
   "cell_type": "markdown",
   "metadata": {},
   "source": [
    "### Agora vamos atualiza a nossa base de preços com as novas cotações"
   ]
  },
  {
   "cell_type": "markdown",
   "metadata": {},
   "source": [
    "- Importando a base de dados"
   ]
  },
  {
   "cell_type": "code",
   "execution_count": null,
   "metadata": {
    "scrolled": true
   },
   "outputs": [],
   "source": []
  },
  {
   "cell_type": "markdown",
   "metadata": {},
   "source": [
    "- Atualizando os preços e o cálculo do Preço Final"
   ]
  },
  {
   "cell_type": "code",
   "execution_count": null,
   "metadata": {},
   "outputs": [],
   "source": []
  },
  {
   "cell_type": "markdown",
   "metadata": {},
   "source": [
    "### Agora vamos exportar a nova base de preços atualizada"
   ]
  },
  {
   "cell_type": "code",
   "execution_count": null,
   "metadata": {},
   "outputs": [],
   "source": []
  }
 ],
 "metadata": {
  "kernelspec": {
   "display_name": "Python 3 (ipykernel)",
   "language": "python",
   "name": "python3"
  },
  "language_info": {
   "codemirror_mode": {
    "name": "ipython",
    "version": 3
   },
   "file_extension": ".py",
   "mimetype": "text/x-python",
   "name": "python",
   "nbconvert_exporter": "python",
   "pygments_lexer": "ipython3",
   "version": "3.9.12"
  },
  "vscode": {
   "interpreter": {
    "hash": "afe61c17460a0f18d869994382d4ee3fea63df2f09c7bdad4b1ea8653b376dd1"
   }
  }
 },
 "nbformat": 4,
 "nbformat_minor": 4
}
